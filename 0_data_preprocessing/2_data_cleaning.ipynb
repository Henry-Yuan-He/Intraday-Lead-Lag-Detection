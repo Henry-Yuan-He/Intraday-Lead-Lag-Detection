{
 "cells": [
  {
   "cell_type": "code",
   "execution_count": null,
   "metadata": {},
   "outputs": [],
   "source": [
    "from joblib import Parallel, delayed\n",
    "import pandas as pd\n",
    "import numpy as np\n",
    "import os\n",
    "from tqdm import tqdm"
   ]
  },
  {
   "cell_type": "markdown",
   "metadata": {},
   "source": [
    "### Remove some months based on missing rate"
   ]
  },
  {
   "cell_type": "markdown",
   "metadata": {},
   "source": [
    "remove data after 2021-06-30"
   ]
  },
  {
   "cell_type": "code",
   "execution_count": null,
   "metadata": {},
   "outputs": [],
   "source": [
    "price_1min = pd.read_csv('./mid_price_1min.csv')"
   ]
  },
  {
   "cell_type": "code",
   "execution_count": null,
   "metadata": {},
   "outputs": [],
   "source": [
    "price_1min"
   ]
  },
  {
   "cell_type": "code",
   "execution_count": null,
   "metadata": {},
   "outputs": [],
   "source": [
    "import pandas as pd\n",
    "import matplotlib.pyplot as plt\n",
    "\n",
    "df = price_1min\n",
    "df['datetime'] = pd.to_datetime(df['date'] + ' ' + df['time'])\n",
    "\n",
    "df['missing_rate'] = df.iloc[:, 2:].isnull().mean(axis=1)  \n",
    "\n",
    "df['year'] = df['datetime'].dt.year\n",
    "yearly_missing_rate = df.groupby('year')['missing_rate'].mean()\n",
    "\n",
    "flierprops = dict(marker='o', markersize=3, linestyle='none', markeredgewidth=0.5, markeredgecolor='black')\n",
    "plt.figure(figsize=(5, 4))\n",
    "bp = plt.boxplot([df[df['year'] == year]['missing_rate'] for year in df['year'].unique()],\n",
    "            labels=df['year'].unique(), patch_artist=True, flierprops=flierprops)\n",
    "\n",
    "# '#116DA9'\n",
    "# '#B03C2B'\n",
    "for box in bp['boxes']:\n",
    "    box.set_facecolor('#B03C2B')\n",
    "    box.set_alpha(0.9)\n",
    "\n",
    "plt.xlabel('Year', fontsize=14)\n",
    "plt.ylabel('Missing Rate', fontsize=14)\n",
    "plt.xticks(fontsize=12, rotation=90)\n",
    "plt.yticks(fontsize=12)\n",
    "# plt.title('Box Plot of Yearly Missing Rate')\n",
    "plt.ylim([-0.05, 1.05])\n",
    "\n",
    "# plt.show()\n",
    "plt.savefig(f'./yearly_missing_rate.pdf', bbox_inches='tight')\n",
    "plt.close()\n"
   ]
  },
  {
   "cell_type": "code",
   "execution_count": null,
   "metadata": {},
   "outputs": [],
   "source": [
    "import pandas as pd\n",
    "import matplotlib.pyplot as plt\n",
    "\n",
    "df = price_1min\n",
    "df['datetime'] = pd.to_datetime(df['date'] + ' ' + df['time'])\n",
    "\n",
    "df['year'] = df['datetime'].dt.year\n",
    "df['month'] = df['datetime'].dt.month\n",
    "\n",
    "df_2021 = df[df['year'] == 2021].copy()\n",
    "\n",
    "df_2021['missing_rate'] = df_2021.iloc[:, 2:-3].isnull().mean(axis=1)\n",
    "\n",
    "flierprops = dict(marker='o', markersize=3, linestyle='none', markeredgewidth=0.5, markeredgecolor='black')\n",
    "plt.figure(figsize=(5, 4.3))\n",
    "bp = plt.boxplot([df_2021[df_2021['month'] == month]['missing_rate'] for month in range(1, 13)],\n",
    "            labels=[f'{month}' for month in range(1, 13)], patch_artist=True, flierprops=flierprops)\n",
    "\n",
    "for box in bp['boxes']:\n",
    "    box.set_facecolor('#B03C2B')\n",
    "    box.set_alpha(0.9)\n",
    "\n",
    "plt.xlabel('Month', fontsize=14)\n",
    "plt.ylabel('Missing Rate', fontsize=14)\n",
    "plt.xticks(fontsize=12)\n",
    "plt.yticks(fontsize=12)\n",
    "plt.ylim([-0.05, 1.05])\n",
    "\n",
    "# plt.title('Box Plot of Monthly Missing Rate in 2021')\n",
    "# plt.show()\n",
    "plt.savefig(f'./monthly_missing_rate_2021.pdf', bbox_inches='tight')\n",
    "plt.close()\n"
   ]
  },
  {
   "cell_type": "markdown",
   "metadata": {},
   "source": [
    "### Remove some tickers"
   ]
  },
  {
   "cell_type": "markdown",
   "metadata": {},
   "source": [
    "#### avg_daily_volume"
   ]
  },
  {
   "cell_type": "markdown",
   "metadata": {},
   "source": [
    "remove bottom 40% (from 516 to 317)"
   ]
  },
  {
   "cell_type": "code",
   "execution_count": null,
   "metadata": {},
   "outputs": [],
   "source": [
    "def load_and_calculate_avg_volume(csv_file):\n",
    "    df = pd.read_csv(csv_file)\n",
    "    \n",
    "    # Outlier condition based on ask_1 and bid_1\n",
    "    outlier_condition = (df['ask_1'] <= 0) | (df['bid_1'] <= 0) | ((df['ask_1'] / df['bid_1']) > 2)\n",
    "    \n",
    "    # Calculate the average volume for each minute\n",
    "    df['avg_volume'] = np.where(outlier_condition, 0, (df['ask_size_1'] + df[' bid_size_1']) / 2)\n",
    "    \n",
    "    # Sum up the volume for the entire day\n",
    "    total_daily_volume = df['avg_volume'].sum()\n",
    "    \n",
    "    return total_daily_volume"
   ]
  },
  {
   "cell_type": "code",
   "execution_count": null,
   "metadata": {},
   "outputs": [],
   "source": [
    "def process_stock_folder(stock_folder, root_dir):\n",
    "    stock_folder_path = os.path.join(root_dir, stock_folder)\n",
    "    if os.path.isdir(stock_folder_path):\n",
    "        try:\n",
    "            stock_name = stock_folder.split('_')[6]\n",
    "        except Exception as e:\n",
    "            print(f\"File path: {stock_folder_path}. Error: {e}\")\n",
    "            return None\n",
    "        \n",
    "        daily_volumes = []\n",
    "        for csv_file in os.listdir(stock_folder_path):\n",
    "            csv_file_path = os.path.join(stock_folder_path, csv_file)\n",
    "            if csv_file_path.endswith('.csv'):\n",
    "                try:\n",
    "                    daily_volume = load_and_calculate_avg_volume(csv_file_path)\n",
    "                    daily_volumes.append(daily_volume)\n",
    "                except Exception as e:\n",
    "                    print(f\"File path: {csv_file_path}. Error: {e}\")\n",
    "        \n",
    "        if daily_volumes:\n",
    "            avg_daily_volume = np.mean(daily_volumes)\n",
    "            return {'stock': stock_name, 'avg_daily_volume': avg_daily_volume}\n",
    "    return None\n",
    "\n",
    "def compile_volume_data(root_dir):\n",
    "    stock_folders = [f for f in os.listdir(root_dir) if os.path.isdir(os.path.join(root_dir, f))]\n",
    "    \n",
    "    compiled_data = Parallel(n_jobs=-1)(delayed(process_stock_folder)(folder, root_dir) for folder in tqdm(stock_folders))\n",
    "    \n",
    "    # Filter out None values\n",
    "    compiled_data = [data for data in compiled_data if data is not None]\n",
    "    \n",
    "    # Convert to DataFrame\n",
    "    result_df = pd.DataFrame(compiled_data)\n",
    "    \n",
    "    return result_df\n",
    "\n",
    "root_directory = '../LOB_516_Minutely_2007_2021/data_by_stocks'\n",
    "volume_data_df = compile_volume_data(root_directory)\n",
    "volume_data_df.head()\n"
   ]
  },
  {
   "cell_type": "code",
   "execution_count": null,
   "metadata": {},
   "outputs": [],
   "source": [
    "# volume_data_df.to_csv('./avg_daily_volume.csv', index=False)"
   ]
  },
  {
   "cell_type": "code",
   "execution_count": null,
   "metadata": {},
   "outputs": [],
   "source": [
    "volume_data_df = pd.read_csv('avg_daily_volume.csv')"
   ]
  },
  {
   "cell_type": "code",
   "execution_count": null,
   "metadata": {},
   "outputs": [],
   "source": [
    "volume_data_df.avg_daily_volume.describe([0.1, 0.2, .25, .3, .4, .5, .75])"
   ]
  },
  {
   "cell_type": "code",
   "execution_count": null,
   "metadata": {},
   "outputs": [],
   "source": [
    "volume_data_df.avg_daily_volume > 1e+05"
   ]
  },
  {
   "cell_type": "markdown",
   "metadata": {},
   "source": [
    "#### Missing rate"
   ]
  },
  {
   "cell_type": "markdown",
   "metadata": {},
   "source": [
    "remove tickers with missing rate > 5% (num of tickers reduced from 516 to 408)"
   ]
  },
  {
   "cell_type": "code",
   "execution_count": null,
   "metadata": {},
   "outputs": [],
   "source": [
    "price_1min = pd.read_csv('./mid_price_1min.csv')"
   ]
  },
  {
   "cell_type": "code",
   "execution_count": null,
   "metadata": {},
   "outputs": [],
   "source": [
    "df = price_1min\n",
    "df['datetime'] = pd.to_datetime(df['date'] + ' ' + df['time'])\n",
    "\n",
    "cutoff_date = pd.Timestamp('2021-07-01')\n",
    "df = df[df['datetime'] < cutoff_date]\n",
    "df = df.drop(columns=['datetime'])"
   ]
  },
  {
   "cell_type": "code",
   "execution_count": null,
   "metadata": {},
   "outputs": [],
   "source": [
    "df.isna().mean().sort_values().describe([.25, .5, .75, 0.8, 0.81, 0.82, 0.83, 0.84, .85, .9])"
   ]
  },
  {
   "cell_type": "code",
   "execution_count": null,
   "metadata": {},
   "outputs": [],
   "source": [
    "df.isna().mean()[2:] <= 0.05"
   ]
  },
  {
   "cell_type": "markdown",
   "metadata": {},
   "source": [
    "### process log_returns: remove high missing rate months and remove some tickers"
   ]
  },
  {
   "cell_type": "code",
   "execution_count": null,
   "metadata": {},
   "outputs": [],
   "source": [
    "log_returns_1min = pd.read_csv('./log_returns_1min.csv')"
   ]
  },
  {
   "cell_type": "code",
   "execution_count": null,
   "metadata": {},
   "outputs": [],
   "source": [
    "# volume\n",
    "high_volume_stocks = volume_data_df[volume_data_df['avg_daily_volume'] > 1e+05]['stock']\n",
    "high_volume_stocks"
   ]
  },
  {
   "cell_type": "code",
   "execution_count": null,
   "metadata": {},
   "outputs": [],
   "source": [
    "# missing rate\n",
    "valid_stocks = df.isna().mean()[2:] <= 0.05\n",
    "valid_stocks = valid_stocks[valid_stocks].index\n",
    "valid_stocks"
   ]
  },
  {
   "cell_type": "code",
   "execution_count": null,
   "metadata": {},
   "outputs": [],
   "source": [
    "selected_stocks = set(high_volume_stocks).intersection(valid_stocks)"
   ]
  },
  {
   "cell_type": "code",
   "execution_count": null,
   "metadata": {},
   "outputs": [],
   "source": [
    "log_returns_1min_filtered = log_returns_1min[['date', 'time'] + list(selected_stocks)]"
   ]
  },
  {
   "cell_type": "code",
   "execution_count": null,
   "metadata": {},
   "outputs": [],
   "source": [
    "log_returns_1min_filtered = log_returns_1min_filtered.copy()\n",
    "log_returns_1min_filtered['date'] = pd.to_datetime(log_returns_1min_filtered['date'])\n",
    "\n",
    "log_returns_1min_filtered = log_returns_1min_filtered[log_returns_1min_filtered['date'] < '2021-07-01']"
   ]
  },
  {
   "cell_type": "code",
   "execution_count": null,
   "metadata": {},
   "outputs": [],
   "source": [
    "log_returns_1min_filtered"
   ]
  },
  {
   "cell_type": "code",
   "execution_count": null,
   "metadata": {},
   "outputs": [],
   "source": [
    "log_returns_1min_filtered.to_csv('./log_returns_1min_252.csv', index=False)"
   ]
  }
 ],
 "metadata": {
  "kernelspec": {
   "display_name": "leadlag",
   "language": "python",
   "name": "python3"
  },
  "language_info": {
   "codemirror_mode": {
    "name": "ipython",
    "version": 3
   },
   "file_extension": ".py",
   "mimetype": "text/x-python",
   "name": "python",
   "nbconvert_exporter": "python",
   "pygments_lexer": "ipython3",
   "version": "3.8.19"
  }
 },
 "nbformat": 4,
 "nbformat_minor": 2
}

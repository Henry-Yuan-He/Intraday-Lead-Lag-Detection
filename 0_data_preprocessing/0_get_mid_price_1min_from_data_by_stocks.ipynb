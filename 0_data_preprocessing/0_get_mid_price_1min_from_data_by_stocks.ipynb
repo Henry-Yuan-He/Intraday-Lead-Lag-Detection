{
 "cells": [
  {
   "cell_type": "code",
   "execution_count": null,
   "metadata": {},
   "outputs": [],
   "source": [
    "import pandas as pd\n",
    "from tqdm import tqdm\n",
    "import os\n",
    "import numpy as np"
   ]
  },
  {
   "cell_type": "code",
   "execution_count": null,
   "metadata": {},
   "outputs": [],
   "source": [
    "def load_and_calculate_avg_price(csv_file):\n",
    "    df = pd.read_csv(csv_file)\n",
    "    \n",
    "    # outlier condition\n",
    "    outlier_condition = (df['ask_1'] <= 0) | (df['bid_1'] <= 0) | ((df['ask_1'] / df['bid_1']) > 2)\n",
    "    \n",
    "    df['mid_price'] = np.where(outlier_condition, np.nan, (df['ask_1'] + df['bid_1']) / 2)\n",
    "    \n",
    "    return df[['time', 'mid_price']]"
   ]
  },
  {
   "cell_type": "code",
   "execution_count": null,
   "metadata": {},
   "outputs": [],
   "source": [
    "def compile_price_data(root_dir):\n",
    "    compiled_data = []\n",
    "    \n",
    "    for stock_folder in tqdm(os.listdir(root_dir)): # loop through all stocks\n",
    "\n",
    "        stock_folder_path = os.path.join(root_dir, stock_folder) # folder for one stock\n",
    "            \n",
    "        if os.path.isdir(stock_folder_path): \n",
    "            try:\n",
    "                stock_name = stock_folder.split('_')[6]\n",
    "            except Exception as e:\n",
    "                print(f\"File path: {stock_folder_path}. Error: {e}\")\n",
    "            for csv_file in os.listdir(stock_folder_path): # daily csv files of one stock\n",
    "                \n",
    "                    csv_file_path = os.path.join(stock_folder_path, csv_file)\n",
    "                    if csv_file_path.endswith('.csv'):\n",
    "                        try:\n",
    "                            date_str = csv_file.split('_')[1]\n",
    "                            daily_df = load_and_calculate_avg_price(csv_file_path)\n",
    "                            \n",
    "                            daily_df['date'] = date_str\n",
    "                            daily_df['stock'] = stock_name\n",
    "                            \n",
    "                            compiled_data.append(daily_df)\n",
    "                        except Exception as e:\n",
    "                            print(f\"File path: {csv_file_path}. Error: {e}\")\n",
    "    \n",
    "    result_df = pd.concat(compiled_data)\n",
    "    result_df.to_pickle('./result_df.pkl')\n",
    "    result_df = result_df.pivot(index=['date', 'time'], columns='stock', values='mid_price')\n",
    "    \n",
    "    return result_df.reset_index()\n",
    "\n",
    "root_directory = '../LOB_516_Minutely_2007_2021/data_by_stocks'\n",
    "price_data_df = compile_price_data(root_directory)\n",
    "price_data_df.head()"
   ]
  },
  {
   "cell_type": "code",
   "execution_count": null,
   "metadata": {},
   "outputs": [],
   "source": [
    "price_data_df.to_csv('./mid_price_1min.csv', index=False)"
   ]
  }
 ],
 "metadata": {
  "kernelspec": {
   "display_name": "leadlag",
   "language": "python",
   "name": "python3"
  },
  "language_info": {
   "codemirror_mode": {
    "name": "ipython",
    "version": 3
   },
   "file_extension": ".py",
   "mimetype": "text/x-python",
   "name": "python",
   "nbconvert_exporter": "python",
   "pygments_lexer": "ipython3",
   "version": "3.8.19"
  }
 },
 "nbformat": 4,
 "nbformat_minor": 2
}
